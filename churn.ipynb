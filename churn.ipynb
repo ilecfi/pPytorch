{
 "cells": [
  {
   "cell_type": "code",
   "execution_count": 1,
   "metadata": {},
   "outputs": [],
   "source": [
    "#Каггл: MaksimZulin https://www.kaggle.com/maksimzulin\n",
    "\n",
    "#Степик: Максим Зулин https://stepik.org/users/383573832\n",
    "\n",
    "#Score: 0.85267 "
   ]
  },
  {
   "cell_type": "code",
   "execution_count": 2,
   "metadata": {},
   "outputs": [],
   "source": [
    "import pandas as pd\n",
    "import numpy as np\n",
    "from matplotlib import pyplot as plt\n",
    "from sklearn.metrics import roc_auc_score\n",
    "import seaborn as sns"
   ]
  },
  {
   "cell_type": "code",
   "execution_count": 3,
   "metadata": {
    "id": "pw-Brue9EEY3",
    "scrolled": true
   },
   "outputs": [],
   "source": [
    "data = pd.read_csv('train.csv')\n",
    "test = pd.read_csv('test.csv')"
   ]
  },
  {
   "cell_type": "code",
   "execution_count": 4,
   "metadata": {},
   "outputs": [
    {
     "data": {
      "text/plain": [
       "((5282, 20), (1761, 19))"
      ]
     },
     "execution_count": 4,
     "metadata": {},
     "output_type": "execute_result"
    }
   ],
   "source": [
    "data.shape, test.shape"
   ]
  },
  {
   "cell_type": "code",
   "execution_count": 5,
   "metadata": {},
   "outputs": [
    {
     "data": {
      "text/html": [
       "<div>\n",
       "<style scoped>\n",
       "    .dataframe tbody tr th:only-of-type {\n",
       "        vertical-align: middle;\n",
       "    }\n",
       "\n",
       "    .dataframe tbody tr th {\n",
       "        vertical-align: top;\n",
       "    }\n",
       "\n",
       "    .dataframe thead th {\n",
       "        text-align: right;\n",
       "    }\n",
       "</style>\n",
       "<table border=\"1\" class=\"dataframe\">\n",
       "  <thead>\n",
       "    <tr style=\"text-align: right;\">\n",
       "      <th></th>\n",
       "      <th>ClientPeriod</th>\n",
       "      <th>MonthlySpending</th>\n",
       "      <th>TotalSpent</th>\n",
       "      <th>Sex</th>\n",
       "      <th>IsSeniorCitizen</th>\n",
       "      <th>HasPartner</th>\n",
       "      <th>HasChild</th>\n",
       "      <th>HasPhoneService</th>\n",
       "      <th>HasMultiplePhoneNumbers</th>\n",
       "      <th>HasInternetService</th>\n",
       "      <th>HasOnlineSecurityService</th>\n",
       "      <th>HasOnlineBackup</th>\n",
       "      <th>HasDeviceProtection</th>\n",
       "      <th>HasTechSupportAccess</th>\n",
       "      <th>HasOnlineTV</th>\n",
       "      <th>HasMovieSubscription</th>\n",
       "      <th>HasContractPhone</th>\n",
       "      <th>IsBillingPaperless</th>\n",
       "      <th>PaymentMethod</th>\n",
       "      <th>Churn</th>\n",
       "    </tr>\n",
       "  </thead>\n",
       "  <tbody>\n",
       "    <tr>\n",
       "      <th>0</th>\n",
       "      <td>55</td>\n",
       "      <td>19.50</td>\n",
       "      <td>1026.35</td>\n",
       "      <td>Male</td>\n",
       "      <td>0</td>\n",
       "      <td>Yes</td>\n",
       "      <td>Yes</td>\n",
       "      <td>Yes</td>\n",
       "      <td>No</td>\n",
       "      <td>No</td>\n",
       "      <td>No internet service</td>\n",
       "      <td>No internet service</td>\n",
       "      <td>No internet service</td>\n",
       "      <td>No internet service</td>\n",
       "      <td>No internet service</td>\n",
       "      <td>No internet service</td>\n",
       "      <td>One year</td>\n",
       "      <td>No</td>\n",
       "      <td>Mailed check</td>\n",
       "      <td>0</td>\n",
       "    </tr>\n",
       "    <tr>\n",
       "      <th>1</th>\n",
       "      <td>72</td>\n",
       "      <td>25.85</td>\n",
       "      <td>1872.2</td>\n",
       "      <td>Male</td>\n",
       "      <td>0</td>\n",
       "      <td>Yes</td>\n",
       "      <td>No</td>\n",
       "      <td>Yes</td>\n",
       "      <td>Yes</td>\n",
       "      <td>No</td>\n",
       "      <td>No internet service</td>\n",
       "      <td>No internet service</td>\n",
       "      <td>No internet service</td>\n",
       "      <td>No internet service</td>\n",
       "      <td>No internet service</td>\n",
       "      <td>No internet service</td>\n",
       "      <td>Two year</td>\n",
       "      <td>No</td>\n",
       "      <td>Credit card (automatic)</td>\n",
       "      <td>0</td>\n",
       "    </tr>\n",
       "    <tr>\n",
       "      <th>2</th>\n",
       "      <td>1</td>\n",
       "      <td>75.90</td>\n",
       "      <td>75.9</td>\n",
       "      <td>Male</td>\n",
       "      <td>0</td>\n",
       "      <td>No</td>\n",
       "      <td>No</td>\n",
       "      <td>Yes</td>\n",
       "      <td>No</td>\n",
       "      <td>Fiber optic</td>\n",
       "      <td>No</td>\n",
       "      <td>No</td>\n",
       "      <td>No</td>\n",
       "      <td>Yes</td>\n",
       "      <td>No</td>\n",
       "      <td>No</td>\n",
       "      <td>Month-to-month</td>\n",
       "      <td>Yes</td>\n",
       "      <td>Electronic check</td>\n",
       "      <td>1</td>\n",
       "    </tr>\n",
       "    <tr>\n",
       "      <th>3</th>\n",
       "      <td>32</td>\n",
       "      <td>79.30</td>\n",
       "      <td>2570</td>\n",
       "      <td>Female</td>\n",
       "      <td>1</td>\n",
       "      <td>Yes</td>\n",
       "      <td>No</td>\n",
       "      <td>Yes</td>\n",
       "      <td>Yes</td>\n",
       "      <td>Fiber optic</td>\n",
       "      <td>No</td>\n",
       "      <td>No</td>\n",
       "      <td>Yes</td>\n",
       "      <td>No</td>\n",
       "      <td>No</td>\n",
       "      <td>No</td>\n",
       "      <td>Month-to-month</td>\n",
       "      <td>No</td>\n",
       "      <td>Mailed check</td>\n",
       "      <td>0</td>\n",
       "    </tr>\n",
       "    <tr>\n",
       "      <th>4</th>\n",
       "      <td>60</td>\n",
       "      <td>115.25</td>\n",
       "      <td>6758.45</td>\n",
       "      <td>Female</td>\n",
       "      <td>0</td>\n",
       "      <td>Yes</td>\n",
       "      <td>Yes</td>\n",
       "      <td>Yes</td>\n",
       "      <td>Yes</td>\n",
       "      <td>Fiber optic</td>\n",
       "      <td>Yes</td>\n",
       "      <td>Yes</td>\n",
       "      <td>Yes</td>\n",
       "      <td>Yes</td>\n",
       "      <td>Yes</td>\n",
       "      <td>Yes</td>\n",
       "      <td>Two year</td>\n",
       "      <td>No</td>\n",
       "      <td>Credit card (automatic)</td>\n",
       "      <td>0</td>\n",
       "    </tr>\n",
       "    <tr>\n",
       "      <th>5</th>\n",
       "      <td>25</td>\n",
       "      <td>19.80</td>\n",
       "      <td>475.2</td>\n",
       "      <td>Female</td>\n",
       "      <td>0</td>\n",
       "      <td>No</td>\n",
       "      <td>No</td>\n",
       "      <td>Yes</td>\n",
       "      <td>No</td>\n",
       "      <td>No</td>\n",
       "      <td>No internet service</td>\n",
       "      <td>No internet service</td>\n",
       "      <td>No internet service</td>\n",
       "      <td>No internet service</td>\n",
       "      <td>No internet service</td>\n",
       "      <td>No internet service</td>\n",
       "      <td>Two year</td>\n",
       "      <td>No</td>\n",
       "      <td>Credit card (automatic)</td>\n",
       "      <td>0</td>\n",
       "    </tr>\n",
       "    <tr>\n",
       "      <th>6</th>\n",
       "      <td>27</td>\n",
       "      <td>90.15</td>\n",
       "      <td>2423.4</td>\n",
       "      <td>Female</td>\n",
       "      <td>0</td>\n",
       "      <td>Yes</td>\n",
       "      <td>No</td>\n",
       "      <td>Yes</td>\n",
       "      <td>Yes</td>\n",
       "      <td>Fiber optic</td>\n",
       "      <td>No</td>\n",
       "      <td>No</td>\n",
       "      <td>Yes</td>\n",
       "      <td>No</td>\n",
       "      <td>No</td>\n",
       "      <td>Yes</td>\n",
       "      <td>Month-to-month</td>\n",
       "      <td>No</td>\n",
       "      <td>Bank transfer (automatic)</td>\n",
       "      <td>0</td>\n",
       "    </tr>\n",
       "    <tr>\n",
       "      <th>7</th>\n",
       "      <td>1</td>\n",
       "      <td>45.70</td>\n",
       "      <td>45.7</td>\n",
       "      <td>Male</td>\n",
       "      <td>0</td>\n",
       "      <td>No</td>\n",
       "      <td>No</td>\n",
       "      <td>Yes</td>\n",
       "      <td>No</td>\n",
       "      <td>DSL</td>\n",
       "      <td>No</td>\n",
       "      <td>No</td>\n",
       "      <td>No</td>\n",
       "      <td>No</td>\n",
       "      <td>No</td>\n",
       "      <td>No</td>\n",
       "      <td>Month-to-month</td>\n",
       "      <td>Yes</td>\n",
       "      <td>Mailed check</td>\n",
       "      <td>1</td>\n",
       "    </tr>\n",
       "    <tr>\n",
       "      <th>8</th>\n",
       "      <td>50</td>\n",
       "      <td>105.95</td>\n",
       "      <td>5341.8</td>\n",
       "      <td>Male</td>\n",
       "      <td>0</td>\n",
       "      <td>Yes</td>\n",
       "      <td>Yes</td>\n",
       "      <td>Yes</td>\n",
       "      <td>Yes</td>\n",
       "      <td>Fiber optic</td>\n",
       "      <td>Yes</td>\n",
       "      <td>No</td>\n",
       "      <td>Yes</td>\n",
       "      <td>No</td>\n",
       "      <td>Yes</td>\n",
       "      <td>Yes</td>\n",
       "      <td>Month-to-month</td>\n",
       "      <td>No</td>\n",
       "      <td>Credit card (automatic)</td>\n",
       "      <td>1</td>\n",
       "    </tr>\n",
       "    <tr>\n",
       "      <th>9</th>\n",
       "      <td>72</td>\n",
       "      <td>61.20</td>\n",
       "      <td>4390.25</td>\n",
       "      <td>Male</td>\n",
       "      <td>0</td>\n",
       "      <td>No</td>\n",
       "      <td>No</td>\n",
       "      <td>No</td>\n",
       "      <td>No phone service</td>\n",
       "      <td>DSL</td>\n",
       "      <td>Yes</td>\n",
       "      <td>No</td>\n",
       "      <td>Yes</td>\n",
       "      <td>Yes</td>\n",
       "      <td>Yes</td>\n",
       "      <td>Yes</td>\n",
       "      <td>Two year</td>\n",
       "      <td>Yes</td>\n",
       "      <td>Credit card (automatic)</td>\n",
       "      <td>0</td>\n",
       "    </tr>\n",
       "  </tbody>\n",
       "</table>\n",
       "</div>"
      ],
      "text/plain": [
       "   ClientPeriod  MonthlySpending TotalSpent     Sex  IsSeniorCitizen  \\\n",
       "0            55            19.50    1026.35    Male                0   \n",
       "1            72            25.85     1872.2    Male                0   \n",
       "2             1            75.90       75.9    Male                0   \n",
       "3            32            79.30       2570  Female                1   \n",
       "4            60           115.25    6758.45  Female                0   \n",
       "5            25            19.80      475.2  Female                0   \n",
       "6            27            90.15     2423.4  Female                0   \n",
       "7             1            45.70       45.7    Male                0   \n",
       "8            50           105.95     5341.8    Male                0   \n",
       "9            72            61.20    4390.25    Male                0   \n",
       "\n",
       "  HasPartner HasChild HasPhoneService HasMultiplePhoneNumbers  \\\n",
       "0        Yes      Yes             Yes                      No   \n",
       "1        Yes       No             Yes                     Yes   \n",
       "2         No       No             Yes                      No   \n",
       "3        Yes       No             Yes                     Yes   \n",
       "4        Yes      Yes             Yes                     Yes   \n",
       "5         No       No             Yes                      No   \n",
       "6        Yes       No             Yes                     Yes   \n",
       "7         No       No             Yes                      No   \n",
       "8        Yes      Yes             Yes                     Yes   \n",
       "9         No       No              No        No phone service   \n",
       "\n",
       "  HasInternetService HasOnlineSecurityService      HasOnlineBackup  \\\n",
       "0                 No      No internet service  No internet service   \n",
       "1                 No      No internet service  No internet service   \n",
       "2        Fiber optic                       No                   No   \n",
       "3        Fiber optic                       No                   No   \n",
       "4        Fiber optic                      Yes                  Yes   \n",
       "5                 No      No internet service  No internet service   \n",
       "6        Fiber optic                       No                   No   \n",
       "7                DSL                       No                   No   \n",
       "8        Fiber optic                      Yes                   No   \n",
       "9                DSL                      Yes                   No   \n",
       "\n",
       "   HasDeviceProtection HasTechSupportAccess          HasOnlineTV  \\\n",
       "0  No internet service  No internet service  No internet service   \n",
       "1  No internet service  No internet service  No internet service   \n",
       "2                   No                  Yes                   No   \n",
       "3                  Yes                   No                   No   \n",
       "4                  Yes                  Yes                  Yes   \n",
       "5  No internet service  No internet service  No internet service   \n",
       "6                  Yes                   No                   No   \n",
       "7                   No                   No                   No   \n",
       "8                  Yes                   No                  Yes   \n",
       "9                  Yes                  Yes                  Yes   \n",
       "\n",
       "  HasMovieSubscription HasContractPhone IsBillingPaperless  \\\n",
       "0  No internet service         One year                 No   \n",
       "1  No internet service         Two year                 No   \n",
       "2                   No   Month-to-month                Yes   \n",
       "3                   No   Month-to-month                 No   \n",
       "4                  Yes         Two year                 No   \n",
       "5  No internet service         Two year                 No   \n",
       "6                  Yes   Month-to-month                 No   \n",
       "7                   No   Month-to-month                Yes   \n",
       "8                  Yes   Month-to-month                 No   \n",
       "9                  Yes         Two year                Yes   \n",
       "\n",
       "               PaymentMethod  Churn  \n",
       "0               Mailed check      0  \n",
       "1    Credit card (automatic)      0  \n",
       "2           Electronic check      1  \n",
       "3               Mailed check      0  \n",
       "4    Credit card (automatic)      0  \n",
       "5    Credit card (automatic)      0  \n",
       "6  Bank transfer (automatic)      0  \n",
       "7               Mailed check      1  \n",
       "8    Credit card (automatic)      1  \n",
       "9    Credit card (automatic)      0  "
      ]
     },
     "execution_count": 5,
     "metadata": {},
     "output_type": "execute_result"
    }
   ],
   "source": [
    "data.head(10)"
   ]
  },
  {
   "cell_type": "code",
   "execution_count": 6,
   "metadata": {
    "id": "KgnkkF5bEEY9"
   },
   "outputs": [],
   "source": [
    "# Для вашего удобства списки с именами разных колонок\n",
    "\n",
    "# Числовые признаки\n",
    "num_cols = [\n",
    "    'ClientPeriod',\n",
    "    'MonthlySpending',\n",
    "    'TotalSpent'\n",
    "]\n",
    "\n",
    "# Категориальные признаки\n",
    "cat_cols = [\n",
    "    'Sex',\n",
    "    'IsSeniorCitizen',\n",
    "    'HasPartner',\n",
    "    'HasChild',\n",
    "    'HasPhoneService',\n",
    "    'HasMultiplePhoneNumbers',\n",
    "    'HasInternetService',\n",
    "    'HasOnlineSecurityService',\n",
    "    'HasOnlineBackup',\n",
    "    'HasDeviceProtection',\n",
    "    'HasTechSupportAccess',\n",
    "    'HasOnlineTV',\n",
    "    'HasMovieSubscription',\n",
    "    'HasContractPhone',\n",
    "    'IsBillingPaperless',\n",
    "    'PaymentMethod'\n",
    "]\n",
    "\n",
    "feature_cols = num_cols + cat_cols\n",
    "target_col = 'Churn'"
   ]
  },
  {
   "cell_type": "code",
   "execution_count": 7,
   "metadata": {
    "id": "tHC6gWabEEZA"
   },
   "outputs": [
    {
     "name": "stdout",
     "output_type": "stream",
     "text": [
      "<class 'pandas.core.frame.DataFrame'>\n",
      "RangeIndex: 5282 entries, 0 to 5281\n",
      "Data columns (total 20 columns):\n",
      " #   Column                    Non-Null Count  Dtype  \n",
      "---  ------                    --------------  -----  \n",
      " 0   ClientPeriod              5282 non-null   int64  \n",
      " 1   MonthlySpending           5282 non-null   float64\n",
      " 2   TotalSpent                5282 non-null   object \n",
      " 3   Sex                       5282 non-null   object \n",
      " 4   IsSeniorCitizen           5282 non-null   int64  \n",
      " 5   HasPartner                5282 non-null   object \n",
      " 6   HasChild                  5282 non-null   object \n",
      " 7   HasPhoneService           5282 non-null   object \n",
      " 8   HasMultiplePhoneNumbers   5282 non-null   object \n",
      " 9   HasInternetService        5282 non-null   object \n",
      " 10  HasOnlineSecurityService  5282 non-null   object \n",
      " 11  HasOnlineBackup           5282 non-null   object \n",
      " 12  HasDeviceProtection       5282 non-null   object \n",
      " 13  HasTechSupportAccess      5282 non-null   object \n",
      " 14  HasOnlineTV               5282 non-null   object \n",
      " 15  HasMovieSubscription      5282 non-null   object \n",
      " 16  HasContractPhone          5282 non-null   object \n",
      " 17  IsBillingPaperless        5282 non-null   object \n",
      " 18  PaymentMethod             5282 non-null   object \n",
      " 19  Churn                     5282 non-null   int64  \n",
      "dtypes: float64(1), int64(3), object(16)\n",
      "memory usage: 825.4+ KB\n"
     ]
    }
   ],
   "source": [
    "data.info()"
   ]
  },
  {
   "cell_type": "markdown",
   "metadata": {},
   "source": [
    "По условию TotalSpent это числовой признак, но в данных у него тип object, скорее всего там есть nan. Нужно перевести его в числовой вид и заполнить пропуски."
   ]
  },
  {
   "cell_type": "code",
   "execution_count": 8,
   "metadata": {
    "scrolled": false
   },
   "outputs": [
    {
     "data": {
      "text/plain": [
       "ClientPeriod                0\n",
       "MonthlySpending             0\n",
       "TotalSpent                  9\n",
       "Sex                         0\n",
       "IsSeniorCitizen             0\n",
       "HasPartner                  0\n",
       "HasChild                    0\n",
       "HasPhoneService             0\n",
       "HasMultiplePhoneNumbers     0\n",
       "HasInternetService          0\n",
       "HasOnlineSecurityService    0\n",
       "HasOnlineBackup             0\n",
       "HasDeviceProtection         0\n",
       "HasTechSupportAccess        0\n",
       "HasOnlineTV                 0\n",
       "HasMovieSubscription        0\n",
       "HasContractPhone            0\n",
       "IsBillingPaperless          0\n",
       "PaymentMethod               0\n",
       "Churn                       0\n",
       "dtype: int64"
      ]
     },
     "execution_count": 8,
     "metadata": {},
     "output_type": "execute_result"
    }
   ],
   "source": [
    "data.TotalSpent = pd.to_numeric(data.TotalSpent, errors='coerce')\n",
    "test.TotalSpent = pd.to_numeric(data.TotalSpent, errors='coerce')\n",
    "data.isna().sum()"
   ]
  },
  {
   "cell_type": "code",
   "execution_count": 9,
   "metadata": {},
   "outputs": [
    {
     "data": {
      "text/plain": [
       "ClientPeriod                0\n",
       "MonthlySpending             0\n",
       "TotalSpent                  0\n",
       "Sex                         0\n",
       "IsSeniorCitizen             0\n",
       "HasPartner                  0\n",
       "HasChild                    0\n",
       "HasPhoneService             0\n",
       "HasMultiplePhoneNumbers     0\n",
       "HasInternetService          0\n",
       "HasOnlineSecurityService    0\n",
       "HasOnlineBackup             0\n",
       "HasDeviceProtection         0\n",
       "HasTechSupportAccess        0\n",
       "HasOnlineTV                 0\n",
       "HasMovieSubscription        0\n",
       "HasContractPhone            0\n",
       "IsBillingPaperless          0\n",
       "PaymentMethod               0\n",
       "Churn                       0\n",
       "dtype: int64"
      ]
     },
     "execution_count": 9,
     "metadata": {},
     "output_type": "execute_result"
    }
   ],
   "source": [
    "data.TotalSpent.fillna(data.TotalSpent.median(), inplace=True)\n",
    "test.TotalSpent.fillna(data.TotalSpent.median(), inplace=True)\n",
    "data.isna().sum()"
   ]
  },
  {
   "cell_type": "code",
   "execution_count": 10,
   "metadata": {},
   "outputs": [
    {
     "data": {
      "text/html": [
       "<div>\n",
       "<style scoped>\n",
       "    .dataframe tbody tr th:only-of-type {\n",
       "        vertical-align: middle;\n",
       "    }\n",
       "\n",
       "    .dataframe tbody tr th {\n",
       "        vertical-align: top;\n",
       "    }\n",
       "\n",
       "    .dataframe thead th {\n",
       "        text-align: right;\n",
       "    }\n",
       "</style>\n",
       "<table border=\"1\" class=\"dataframe\">\n",
       "  <thead>\n",
       "    <tr style=\"text-align: right;\">\n",
       "      <th></th>\n",
       "      <th>ClientPeriod</th>\n",
       "      <th>MonthlySpending</th>\n",
       "      <th>TotalSpent</th>\n",
       "    </tr>\n",
       "  </thead>\n",
       "  <tbody>\n",
       "    <tr>\n",
       "      <th>count</th>\n",
       "      <td>5282.000000</td>\n",
       "      <td>5282.000000</td>\n",
       "      <td>5282.000000</td>\n",
       "    </tr>\n",
       "    <tr>\n",
       "      <th>mean</th>\n",
       "      <td>32.397009</td>\n",
       "      <td>64.924754</td>\n",
       "      <td>2289.889086</td>\n",
       "    </tr>\n",
       "    <tr>\n",
       "      <th>std</th>\n",
       "      <td>24.550326</td>\n",
       "      <td>30.176464</td>\n",
       "      <td>2267.371263</td>\n",
       "    </tr>\n",
       "    <tr>\n",
       "      <th>min</th>\n",
       "      <td>0.000000</td>\n",
       "      <td>18.250000</td>\n",
       "      <td>18.800000</td>\n",
       "    </tr>\n",
       "    <tr>\n",
       "      <th>25%</th>\n",
       "      <td>9.000000</td>\n",
       "      <td>35.462500</td>\n",
       "      <td>401.587500</td>\n",
       "    </tr>\n",
       "    <tr>\n",
       "      <th>50%</th>\n",
       "      <td>29.000000</td>\n",
       "      <td>70.400000</td>\n",
       "      <td>1410.250000</td>\n",
       "    </tr>\n",
       "    <tr>\n",
       "      <th>75%</th>\n",
       "      <td>55.000000</td>\n",
       "      <td>90.050000</td>\n",
       "      <td>3795.212500</td>\n",
       "    </tr>\n",
       "    <tr>\n",
       "      <th>max</th>\n",
       "      <td>72.000000</td>\n",
       "      <td>118.750000</td>\n",
       "      <td>8684.800000</td>\n",
       "    </tr>\n",
       "  </tbody>\n",
       "</table>\n",
       "</div>"
      ],
      "text/plain": [
       "       ClientPeriod  MonthlySpending   TotalSpent\n",
       "count   5282.000000      5282.000000  5282.000000\n",
       "mean      32.397009        64.924754  2289.889086\n",
       "std       24.550326        30.176464  2267.371263\n",
       "min        0.000000        18.250000    18.800000\n",
       "25%        9.000000        35.462500   401.587500\n",
       "50%       29.000000        70.400000  1410.250000\n",
       "75%       55.000000        90.050000  3795.212500\n",
       "max       72.000000       118.750000  8684.800000"
      ]
     },
     "execution_count": 10,
     "metadata": {},
     "output_type": "execute_result"
    }
   ],
   "source": [
    "data[num_cols].describe()"
   ]
  },
  {
   "cell_type": "markdown",
   "metadata": {},
   "source": [
    "Колличественные признаки"
   ]
  },
  {
   "cell_type": "code",
   "execution_count": 11,
   "metadata": {
    "id": "NZkbgFJZEEZE"
   },
   "outputs": [
    {
     "data": {
      "image/png": "[encoded data removed]",
      "text/plain": [
       "<Figure size 720x1080 with 3 Axes>"
      ]
     },
     "metadata": {
      "needs_background": "light"
     },
     "output_type": "display_data"
    }
   ],
   "source": [
    "fig, ax = plt.subplots(3, 1, figsize=(10,15))\n",
    "for n, col in enumerate(num_cols):\n",
    "    ax = ax.flatten()\n",
    "    ax[n].hist(data[col], bins=30)\n",
    "    ax[n].set_title(col, size=15)\n",
    "plt.show()"
   ]
  },
  {
   "cell_type": "markdown",
   "metadata": {},
   "source": [
    "Категориальные признаки"
   ]
  },
  {
   "cell_type": "code",
   "execution_count": 12,
   "metadata": {},
   "outputs": [
    {
     "data": {
      "image/png": "[encoded data removed]",
      "text/plain": [
       "<Figure size 1152x1728 with 16 Axes>"
      ]
     },
     "metadata": {
      "needs_background": "light"
     },
     "output_type": "display_data"
    }
   ],
   "source": [
    "fig, ax = plt.subplots(8, 2, figsize=(16,24))\n",
    "for n, col in enumerate(cat_cols):\n",
    "    ax = ax.flatten()\n",
    "    ax[n].bar(data[col].value_counts().index, data[col].value_counts().values, color=['darkmagenta', 'plum','peachpuff','khaki'])\n",
    "    ax[n].set_title(col, size=15)\n",
    "    ax[n].set_xticks(data[col].value_counts().index)\n",
    "fig.tight_layout()\n",
    "plt.show()"
   ]
  },
  {
   "cell_type": "markdown",
   "metadata": {},
   "source": [
    "Быстрее и проще так"
   ]
  },
  {
   "cell_type": "code",
   "execution_count": 13,
   "metadata": {},
   "outputs": [
    {
     "name": "stderr",
     "output_type": "stream",
     "text": [
      "C:\\ProgramData\\Anaconda3\\lib\\site-packages\\seaborn\\_decorators.py:36: FutureWarning: Pass the following variable as a keyword arg: x. From version 0.12, the only valid positional argument will be `data`, and passing other arguments without an explicit keyword will result in an error or misinterpretation.\n",
      "  warnings.warn(\n"
     ]
    },
    {
     "data": {
      "text/plain": [
       "<AxesSubplot:xlabel='Churn', ylabel='count'>"
      ]
     },
     "execution_count": 13,
     "metadata": {},
     "output_type": "execute_result"
    },
    {
     "data": {
      "image/png": "[encoded data removed]",
      "text/plain": [
       "<Figure size 432x288 with 1 Axes>"
      ]
     },
     "metadata": {
      "needs_background": "light"
     },
     "output_type": "display_data"
    }
   ],
   "source": [
    "sns.countplot(data.Churn)"
   ]
  },
  {
   "cell_type": "code",
   "execution_count": 14,
   "metadata": {
    "id": "xHCLDmwqEEZL"
   },
   "outputs": [],
   "source": [
    "from sklearn.linear_model import LogisticRegression\n",
    "from sklearn.model_selection import train_test_split, GridSearchCV\n",
    "from sklearn.preprocessing import StandardScaler, OneHotEncoder\n",
    "from sklearn.pipeline import make_pipeline\n",
    "from sklearn.compose import ColumnTransformer\n",
    "from sklearn.pipeline import Pipeline\n",
    "from sklearn.impute import SimpleImputer"
   ]
  },
  {
   "cell_type": "code",
   "execution_count": 15,
   "metadata": {
    "id": "P2Yv3uYtEEZO"
   },
   "outputs": [],
   "source": [
    "X_train = data[num_cols + cat_cols].copy()\n",
    "y_train = data[target_col].copy()\n",
    "X_test = test"
   ]
  },
  {
   "cell_type": "markdown",
   "metadata": {},
   "source": [
    "Пайплайн"
   ]
  },
  {
   "cell_type": "code",
   "execution_count": 16,
   "metadata": {},
   "outputs": [],
   "source": [
    "prepare_pipeline = ColumnTransformer([\n",
    "        (\"num\", StandardScaler(), num_cols),\n",
    "        (\"cat\", OneHotEncoder(), cat_cols)])\n",
    "\n",
    "full_pipeline = Pipeline([\n",
    "        (\"preparation\", prepare_pipeline),\n",
    "        (\"linear\", LogisticRegression(solver = 'liblinear', random_state=42))])"
   ]
  },
  {
   "cell_type": "code",
   "execution_count": 17,
   "metadata": {},
   "outputs": [],
   "source": [
    "C_values_lst = [1000, 100, 10, 1, 0.1, 0.01, 0.001]\n",
    "\n",
    "param_grid = [{'linear__penalty':['l1', 'l2'],\n",
    "         'linear__C':C_values_lst}]"
   ]
  },
  {
   "cell_type": "code",
   "execution_count": 18,
   "metadata": {},
   "outputs": [],
   "source": [
    "grid_search = GridSearchCV(full_pipeline, \n",
    "                          param_grid, \n",
    "                          scoring='roc_auc', \n",
    "                          verbose=5)"
   ]
  },
  {
   "cell_type": "markdown",
   "metadata": {},
   "source": [
    "Обучаем модель"
   ]
  },
  {
   "cell_type": "code",
   "execution_count": 19,
   "metadata": {},
   "outputs": [
    {
     "name": "stdout",
     "output_type": "stream",
     "text": [
      "Fitting 5 folds for each of 14 candidates, totalling 70 fits\n",
      "[CV 1/5] END linear__C=1000, linear__penalty=l1;, score=0.862 total time=   0.5s\n",
      "[CV 2/5] END linear__C=1000, linear__penalty=l1;, score=0.837 total time=   0.6s\n",
      "[CV 3/5] END linear__C=1000, linear__penalty=l1;, score=0.834 total time=   0.5s\n",
      "[CV 4/5] END linear__C=1000, linear__penalty=l1;, score=0.856 total time=   0.6s\n",
      "[CV 5/5] END linear__C=1000, linear__penalty=l1;, score=0.836 total time=   0.6s\n",
      "[CV 1/5] END linear__C=1000, linear__penalty=l2;, score=0.862 total time=   0.0s\n",
      "[CV 2/5] END linear__C=1000, linear__penalty=l2;, score=0.837 total time=   0.0s\n",
      "[CV 3/5] END linear__C=1000, linear__penalty=l2;, score=0.834 total time=   0.0s\n",
      "[CV 4/5] END linear__C=1000, linear__penalty=l2;, score=0.856 total time=   0.0s\n",
      "[CV 5/5] END linear__C=1000, linear__penalty=l2;, score=0.836 total time=   0.0s\n",
      "[CV 1/5] END .linear__C=100, linear__penalty=l1;, score=0.862 total time=   0.5s\n",
      "[CV 2/5] END .linear__C=100, linear__penalty=l1;, score=0.837 total time=   0.6s\n",
      "[CV 3/5] END .linear__C=100, linear__penalty=l1;, score=0.834 total time=   0.6s\n",
      "[CV 4/5] END .linear__C=100, linear__penalty=l1;, score=0.856 total time=   0.7s\n",
      "[CV 5/5] END .linear__C=100, linear__penalty=l1;, score=0.836 total time=   0.6s\n",
      "[CV 1/5] END .linear__C=100, linear__penalty=l2;, score=0.862 total time=   0.0s\n",
      "[CV 2/5] END .linear__C=100, linear__penalty=l2;, score=0.837 total time=   0.0s\n",
      "[CV 3/5] END .linear__C=100, linear__penalty=l2;, score=0.834 total time=   0.0s\n",
      "[CV 4/5] END .linear__C=100, linear__penalty=l2;, score=0.856 total time=   0.1s\n",
      "[CV 5/5] END .linear__C=100, linear__penalty=l2;, score=0.836 total time=   0.0s\n",
      "[CV 1/5] END ..linear__C=10, linear__penalty=l1;, score=0.862 total time=   0.6s\n",
      "[CV 2/5] END ..linear__C=10, linear__penalty=l1;, score=0.837 total time=   0.5s\n",
      "[CV 3/5] END ..linear__C=10, linear__penalty=l1;, score=0.834 total time=   0.7s\n",
      "[CV 4/5] END ..linear__C=10, linear__penalty=l1;, score=0.856 total time=   0.7s\n",
      "[CV 5/5] END ..linear__C=10, linear__penalty=l1;, score=0.835 total time=   0.5s\n",
      "[CV 1/5] END ..linear__C=10, linear__penalty=l2;, score=0.862 total time=   0.0s\n",
      "[CV 2/5] END ..linear__C=10, linear__penalty=l2;, score=0.837 total time=   0.0s\n",
      "[CV 3/5] END ..linear__C=10, linear__penalty=l2;, score=0.835 total time=   0.0s\n",
      "[CV 4/5] END ..linear__C=10, linear__penalty=l2;, score=0.856 total time=   0.0s\n",
      "[CV 5/5] END ..linear__C=10, linear__penalty=l2;, score=0.836 total time=   0.0s\n",
      "[CV 1/5] END ...linear__C=1, linear__penalty=l1;, score=0.862 total time=   0.2s\n",
      "[CV 2/5] END ...linear__C=1, linear__penalty=l1;, score=0.837 total time=   0.1s\n",
      "[CV 3/5] END ...linear__C=1, linear__penalty=l1;, score=0.834 total time=   0.0s\n",
      "[CV 4/5] END ...linear__C=1, linear__penalty=l1;, score=0.856 total time=   0.0s\n",
      "[CV 5/5] END ...linear__C=1, linear__penalty=l1;, score=0.835 total time=   0.2s\n",
      "[CV 1/5] END ...linear__C=1, linear__penalty=l2;, score=0.862 total time=   0.0s\n",
      "[CV 2/5] END ...linear__C=1, linear__penalty=l2;, score=0.837 total time=   0.0s\n",
      "[CV 3/5] END ...linear__C=1, linear__penalty=l2;, score=0.834 total time=   0.0s\n",
      "[CV 4/5] END ...linear__C=1, linear__penalty=l2;, score=0.856 total time=   0.0s\n",
      "[CV 5/5] END ...linear__C=1, linear__penalty=l2;, score=0.835 total time=   0.0s\n",
      "[CV 1/5] END .linear__C=0.1, linear__penalty=l1;, score=0.859 total time=   0.0s\n",
      "[CV 2/5] END .linear__C=0.1, linear__penalty=l1;, score=0.837 total time=   0.1s\n",
      "[CV 3/5] END .linear__C=0.1, linear__penalty=l1;, score=0.833 total time=   0.0s\n",
      "[CV 4/5] END .linear__C=0.1, linear__penalty=l1;, score=0.854 total time=   0.1s\n",
      "[CV 5/5] END .linear__C=0.1, linear__penalty=l1;, score=0.831 total time=   0.1s\n",
      "[CV 1/5] END .linear__C=0.1, linear__penalty=l2;, score=0.860 total time=   0.0s\n",
      "[CV 2/5] END .linear__C=0.1, linear__penalty=l2;, score=0.836 total time=   0.0s\n",
      "[CV 3/5] END .linear__C=0.1, linear__penalty=l2;, score=0.834 total time=   0.0s\n",
      "[CV 4/5] END .linear__C=0.1, linear__penalty=l2;, score=0.856 total time=   0.0s\n",
      "[CV 5/5] END .linear__C=0.1, linear__penalty=l2;, score=0.834 total time=   0.0s\n",
      "[CV 1/5] END linear__C=0.01, linear__penalty=l1;, score=0.837 total time=   0.0s\n",
      "[CV 2/5] END linear__C=0.01, linear__penalty=l1;, score=0.826 total time=   0.0s\n",
      "[CV 3/5] END linear__C=0.01, linear__penalty=l1;, score=0.819 total time=   0.0s\n",
      "[CV 4/5] END linear__C=0.01, linear__penalty=l1;, score=0.820 total time=   0.0s\n",
      "[CV 5/5] END linear__C=0.01, linear__penalty=l1;, score=0.811 total time=   0.0s\n",
      "[CV 1/5] END linear__C=0.01, linear__penalty=l2;, score=0.856 total time=   0.0s\n",
      "[CV 2/5] END linear__C=0.01, linear__penalty=l2;, score=0.833 total time=   0.0s\n",
      "[CV 3/5] END linear__C=0.01, linear__penalty=l2;, score=0.833 total time=   0.0s\n",
      "[CV 4/5] END linear__C=0.01, linear__penalty=l2;, score=0.856 total time=   0.0s\n",
      "[CV 5/5] END linear__C=0.01, linear__penalty=l2;, score=0.830 total time=   0.0s\n",
      "[CV 1/5] END linear__C=0.001, linear__penalty=l1;, score=0.500 total time=   0.0s\n",
      "[CV 2/5] END linear__C=0.001, linear__penalty=l1;, score=0.500 total time=   0.0s\n",
      "[CV 3/5] END linear__C=0.001, linear__penalty=l1;, score=0.500 total time=   0.0s\n",
      "[CV 4/5] END linear__C=0.001, linear__penalty=l1;, score=0.500 total time=   0.0s\n",
      "[CV 5/5] END linear__C=0.001, linear__penalty=l1;, score=0.500 total time=   0.0s\n",
      "[CV 1/5] END linear__C=0.001, linear__penalty=l2;, score=0.850 total time=   0.0s\n",
      "[CV 2/5] END linear__C=0.001, linear__penalty=l2;, score=0.829 total time=   0.0s\n",
      "[CV 3/5] END linear__C=0.001, linear__penalty=l2;, score=0.833 total time=   0.0s\n",
      "[CV 4/5] END linear__C=0.001, linear__penalty=l2;, score=0.851 total time=   0.0s\n",
      "[CV 5/5] END linear__C=0.001, linear__penalty=l2;, score=0.827 total time=   0.0s\n"
     ]
    },
    {
     "data": {
      "text/plain": [
       "GridSearchCV(estimator=Pipeline(steps=[('preparation',\n",
       "                                        ColumnTransformer(transformers=[('num',\n",
       "                                                                         StandardScaler(),\n",
       "                                                                         ['ClientPeriod',\n",
       "                                                                          'MonthlySpending',\n",
       "                                                                          'TotalSpent']),\n",
       "                                                                        ('cat',\n",
       "                                                                         OneHotEncoder(),\n",
       "                                                                         ['Sex',\n",
       "                                                                          'IsSeniorCitizen',\n",
       "                                                                          'HasPartner',\n",
       "                                                                          'HasChild',\n",
       "                                                                          'HasPhoneService',\n",
       "                                                                          'HasMultiplePhoneNumbers',\n",
       "                                                                          'HasInternetService',\n",
       "                                                                          'HasOnlineSecurityService',\n",
       "                                                                          'HasOnlineBackup',\n",
       "                                                                          'HasDeviceProtection',\n",
       "                                                                          'HasTechSupportAccess',\n",
       "                                                                          'HasOnlineTV',\n",
       "                                                                          'HasMovieSubscription',\n",
       "                                                                          'HasContractPhone',\n",
       "                                                                          'IsBillingPaperless',\n",
       "                                                                          'PaymentMethod'])])),\n",
       "                                       ('linear',\n",
       "                                        LogisticRegression(random_state=42,\n",
       "                                                           solver='liblinear'))]),\n",
       "             param_grid=[{'linear__C': [1000, 100, 10, 1, 0.1, 0.01, 0.001],\n",
       "                          'linear__penalty': ['l1', 'l2']}],\n",
       "             scoring='roc_auc', verbose=5)"
      ]
     },
     "execution_count": 19,
     "metadata": {},
     "output_type": "execute_result"
    }
   ],
   "source": [
    "grid_search.fit(X_train, y_train)"
   ]
  },
  {
   "cell_type": "code",
   "execution_count": 20,
   "metadata": {},
   "outputs": [
    {
     "data": {
      "text/plain": [
       "0.8489588739742033"
      ]
     },
     "execution_count": 20,
     "metadata": {},
     "output_type": "execute_result"
    }
   ],
   "source": [
    "roc_auc_score(y_train, grid_search.predict_proba(X_train)[:, 1])"
   ]
  },
  {
   "cell_type": "code",
   "execution_count": 21,
   "metadata": {
    "scrolled": true
   },
   "outputs": [
    {
     "data": {
      "text/plain": [
       "{'linear__C': 100, 'linear__penalty': 'l1'}"
      ]
     },
     "execution_count": 21,
     "metadata": {},
     "output_type": "execute_result"
    }
   ],
   "source": [
    "grid_search.best_params_"
   ]
  },
  {
   "cell_type": "code",
   "execution_count": 22,
   "metadata": {},
   "outputs": [
    {
     "data": {
      "text/plain": [
       "Pipeline(steps=[('preparation',\n",
       "                 ColumnTransformer(transformers=[('num', StandardScaler(),\n",
       "                                                  ['ClientPeriod',\n",
       "                                                   'MonthlySpending',\n",
       "                                                   'TotalSpent']),\n",
       "                                                 ('cat', OneHotEncoder(),\n",
       "                                                  ['Sex', 'IsSeniorCitizen',\n",
       "                                                   'HasPartner', 'HasChild',\n",
       "                                                   'HasPhoneService',\n",
       "                                                   'HasMultiplePhoneNumbers',\n",
       "                                                   'HasInternetService',\n",
       "                                                   'HasOnlineSecurityService',\n",
       "                                                   'HasOnlineBackup',\n",
       "                                                   'HasDeviceProtection',\n",
       "                                                   'HasTechSupportAccess',\n",
       "                                                   'HasOnlineTV',\n",
       "                                                   'HasMovieSubscription',\n",
       "                                                   'HasContractPhone',\n",
       "                                                   'IsBillingPaperless',\n",
       "                                                   'PaymentMethod'])])),\n",
       "                ('linear',\n",
       "                 LogisticRegression(C=100, penalty='l1', random_state=42,\n",
       "                                    solver='liblinear'))])"
      ]
     },
     "execution_count": 22,
     "metadata": {},
     "output_type": "execute_result"
    }
   ],
   "source": [
    "best_pipeline = grid_search.best_estimator_\n",
    "best_pipeline"
   ]
  },
  {
   "cell_type": "markdown",
   "metadata": {},
   "source": [
    "Проверяем на лучших параметрах"
   ]
  },
  {
   "cell_type": "code",
   "execution_count": 23,
   "metadata": {},
   "outputs": [
    {
     "data": {
      "text/plain": [
       "0.8489588739742033"
      ]
     },
     "execution_count": 23,
     "metadata": {},
     "output_type": "execute_result"
    }
   ],
   "source": [
    "roc_auc_score(y_train, best_pipeline.predict_proba(X_train)[:, 1])"
   ]
  },
  {
   "cell_type": "markdown",
   "metadata": {},
   "source": [
    "Градиентный бустинг"
   ]
  },
  {
   "cell_type": "code",
   "execution_count": 24,
   "metadata": {},
   "outputs": [],
   "source": [
    "from catboost import CatBoostClassifier\n",
    "import catboost"
   ]
  },
  {
   "cell_type": "code",
   "execution_count": 25,
   "metadata": {},
   "outputs": [],
   "source": [
    "X_train, X_test, y_train, y_test = train_test_split(data[feature_cols], data['Churn'], \n",
    "                                                       train_size=0.8, \n",
    "                                                       random_state=42)"
   ]
  },
  {
   "cell_type": "code",
   "execution_count": 26,
   "metadata": {},
   "outputs": [],
   "source": [
    "cat = CatBoostClassifier(cat_features=cat_cols, random_seed=42, verbose=False)"
   ]
  },
  {
   "cell_type": "code",
   "execution_count": 27,
   "metadata": {},
   "outputs": [
    {
     "data": {
      "text/plain": [
       "<catboost.core.CatBoostClassifier at 0x1d5596dca60>"
      ]
     },
     "execution_count": 27,
     "metadata": {},
     "output_type": "execute_result"
    }
   ],
   "source": [
    "cat.fit(X_train, y_train, use_best_model=True, eval_set=(X_test, y_test))"
   ]
  },
  {
   "cell_type": "code",
   "execution_count": 28,
   "metadata": {},
   "outputs": [
    {
     "data": {
      "text/plain": [
       "0.873011444178972"
      ]
     },
     "execution_count": 28,
     "metadata": {},
     "output_type": "execute_result"
    }
   ],
   "source": [
    "roc_auc_score(y_train, cat.predict_proba(X_train)[:, 1])"
   ]
  },
  {
   "cell_type": "code",
   "execution_count": 29,
   "metadata": {},
   "outputs": [
    {
     "data": {
      "text/plain": [
       "0.8284902245084549"
      ]
     },
     "execution_count": 29,
     "metadata": {},
     "output_type": "execute_result"
    }
   ],
   "source": [
    "roc_auc_score(y_test, cat.predict_proba(X_test)[:, 1])"
   ]
  },
  {
   "cell_type": "code",
   "execution_count": 30,
   "metadata": {},
   "outputs": [],
   "source": [
    "y_train_predicted = cat.predict_proba(X_train)[:, 1]\n",
    "y_test_predicted = cat.predict_proba(X_test)[:, 1]"
   ]
  },
  {
   "cell_type": "code",
   "execution_count": 31,
   "metadata": {},
   "outputs": [
    {
     "name": "stdout",
     "output_type": "stream",
     "text": [
      "Learning rate set to 0.157457\n",
      "0:\tlearn: 0.6374127\ttotal: 32.8ms\tremaining: 3.24s\n",
      "1:\tlearn: 0.5944644\ttotal: 62.3ms\tremaining: 3.05s\n",
      "2:\tlearn: 0.5607167\ttotal: 93.8ms\tremaining: 3.03s\n",
      "3:\tlearn: 0.5349961\ttotal: 123ms\tremaining: 2.96s\n",
      "4:\tlearn: 0.5155555\ttotal: 152ms\tremaining: 2.89s\n",
      "5:\tlearn: 0.4993339\ttotal: 179ms\tremaining: 2.8s\n",
      "6:\tlearn: 0.4849506\ttotal: 210ms\tremaining: 2.79s\n",
      "7:\tlearn: 0.4716881\ttotal: 237ms\tremaining: 2.73s\n",
      "8:\tlearn: 0.4603805\ttotal: 267ms\tremaining: 2.7s\n",
      "9:\tlearn: 0.4513992\ttotal: 296ms\tremaining: 2.67s\n",
      "10:\tlearn: 0.4441001\ttotal: 325ms\tremaining: 2.63s\n",
      "11:\tlearn: 0.4380334\ttotal: 354ms\tremaining: 2.59s\n",
      "12:\tlearn: 0.4324179\ttotal: 411ms\tremaining: 2.75s\n",
      "13:\tlearn: 0.4274501\ttotal: 454ms\tremaining: 2.79s\n",
      "14:\tlearn: 0.4224788\ttotal: 493ms\tremaining: 2.8s\n",
      "15:\tlearn: 0.4192212\ttotal: 523ms\tremaining: 2.74s\n",
      "16:\tlearn: 0.4157905\ttotal: 552ms\tremaining: 2.69s\n",
      "17:\tlearn: 0.4128357\ttotal: 581ms\tremaining: 2.65s\n",
      "18:\tlearn: 0.4100133\ttotal: 610ms\tremaining: 2.6s\n",
      "19:\tlearn: 0.4075918\ttotal: 640ms\tremaining: 2.56s\n",
      "20:\tlearn: 0.4056451\ttotal: 671ms\tremaining: 2.52s\n",
      "21:\tlearn: 0.4036976\ttotal: 702ms\tremaining: 2.49s\n",
      "22:\tlearn: 0.4020791\ttotal: 733ms\tremaining: 2.45s\n",
      "23:\tlearn: 0.4007487\ttotal: 765ms\tremaining: 2.42s\n",
      "24:\tlearn: 0.4001680\ttotal: 782ms\tremaining: 2.35s\n",
      "25:\tlearn: 0.3986568\ttotal: 809ms\tremaining: 2.3s\n",
      "26:\tlearn: 0.3984055\ttotal: 820ms\tremaining: 2.21s\n",
      "27:\tlearn: 0.3980560\ttotal: 849ms\tremaining: 2.18s\n",
      "28:\tlearn: 0.3974927\ttotal: 879ms\tremaining: 2.15s\n",
      "29:\tlearn: 0.3969719\ttotal: 889ms\tremaining: 2.07s\n",
      "30:\tlearn: 0.3957063\ttotal: 918ms\tremaining: 2.04s\n",
      "31:\tlearn: 0.3951194\ttotal: 942ms\tremaining: 2s\n",
      "32:\tlearn: 0.3950493\ttotal: 953ms\tremaining: 1.93s\n",
      "33:\tlearn: 0.3947837\ttotal: 982ms\tremaining: 1.91s\n",
      "34:\tlearn: 0.3942962\ttotal: 1s\tremaining: 1.86s\n",
      "35:\tlearn: 0.3928315\ttotal: 1.03s\tremaining: 1.83s\n",
      "36:\tlearn: 0.3921334\ttotal: 1.06s\tremaining: 1.8s\n",
      "37:\tlearn: 0.3920179\ttotal: 1.08s\tremaining: 1.76s\n",
      "38:\tlearn: 0.3917351\ttotal: 1.1s\tremaining: 1.72s\n",
      "39:\tlearn: 0.3911778\ttotal: 1.13s\tremaining: 1.69s\n",
      "40:\tlearn: 0.3909698\ttotal: 1.15s\tremaining: 1.65s\n",
      "41:\tlearn: 0.3907305\ttotal: 1.17s\tremaining: 1.61s\n",
      "42:\tlearn: 0.3900182\ttotal: 1.2s\tremaining: 1.59s\n",
      "43:\tlearn: 0.3895274\ttotal: 1.23s\tremaining: 1.56s\n",
      "44:\tlearn: 0.3890497\ttotal: 1.26s\tremaining: 1.54s\n",
      "45:\tlearn: 0.3888095\ttotal: 1.29s\tremaining: 1.51s\n",
      "46:\tlearn: 0.3882972\ttotal: 1.32s\tremaining: 1.49s\n",
      "47:\tlearn: 0.3882669\ttotal: 1.33s\tremaining: 1.45s\n",
      "48:\tlearn: 0.3882302\ttotal: 1.35s\tremaining: 1.41s\n",
      "49:\tlearn: 0.3879293\ttotal: 1.38s\tremaining: 1.38s\n",
      "50:\tlearn: 0.3873697\ttotal: 1.41s\tremaining: 1.35s\n",
      "51:\tlearn: 0.3873026\ttotal: 1.44s\tremaining: 1.33s\n",
      "52:\tlearn: 0.3867677\ttotal: 1.47s\tremaining: 1.3s\n",
      "53:\tlearn: 0.3865849\ttotal: 1.49s\tremaining: 1.27s\n",
      "54:\tlearn: 0.3865549\ttotal: 1.51s\tremaining: 1.24s\n",
      "55:\tlearn: 0.3860961\ttotal: 1.54s\tremaining: 1.21s\n",
      "56:\tlearn: 0.3859747\ttotal: 1.57s\tremaining: 1.19s\n",
      "57:\tlearn: 0.3859139\ttotal: 1.6s\tremaining: 1.16s\n",
      "58:\tlearn: 0.3854432\ttotal: 1.63s\tremaining: 1.13s\n",
      "59:\tlearn: 0.3851041\ttotal: 1.66s\tremaining: 1.11s\n",
      "60:\tlearn: 0.3848900\ttotal: 1.69s\tremaining: 1.08s\n",
      "61:\tlearn: 0.3847163\ttotal: 1.72s\tremaining: 1.05s\n",
      "62:\tlearn: 0.3840708\ttotal: 1.75s\tremaining: 1.03s\n",
      "63:\tlearn: 0.3839340\ttotal: 1.78s\tremaining: 1s\n",
      "64:\tlearn: 0.3838377\ttotal: 1.82s\tremaining: 979ms\n",
      "65:\tlearn: 0.3837200\ttotal: 1.85s\tremaining: 951ms\n",
      "66:\tlearn: 0.3836832\ttotal: 1.88s\tremaining: 925ms\n",
      "67:\tlearn: 0.3834685\ttotal: 1.91s\tremaining: 897ms\n",
      "68:\tlearn: 0.3832938\ttotal: 1.94s\tremaining: 870ms\n",
      "69:\tlearn: 0.3827528\ttotal: 1.97s\tremaining: 843ms\n",
      "70:\tlearn: 0.3819806\ttotal: 2s\tremaining: 816ms\n",
      "71:\tlearn: 0.3819419\ttotal: 2.02s\tremaining: 787ms\n",
      "72:\tlearn: 0.3816820\ttotal: 2.05s\tremaining: 759ms\n",
      "73:\tlearn: 0.3816229\ttotal: 2.08s\tremaining: 732ms\n",
      "74:\tlearn: 0.3813697\ttotal: 2.11s\tremaining: 704ms\n",
      "75:\tlearn: 0.3811863\ttotal: 2.14s\tremaining: 676ms\n",
      "76:\tlearn: 0.3803794\ttotal: 2.17s\tremaining: 649ms\n",
      "77:\tlearn: 0.3802791\ttotal: 2.21s\tremaining: 622ms\n",
      "78:\tlearn: 0.3797794\ttotal: 2.24s\tremaining: 596ms\n",
      "79:\tlearn: 0.3797245\ttotal: 2.28s\tremaining: 570ms\n",
      "80:\tlearn: 0.3797196\ttotal: 2.31s\tremaining: 542ms\n",
      "81:\tlearn: 0.3791029\ttotal: 2.34s\tremaining: 514ms\n",
      "82:\tlearn: 0.3790790\ttotal: 2.37s\tremaining: 486ms\n",
      "83:\tlearn: 0.3789374\ttotal: 2.4s\tremaining: 458ms\n",
      "84:\tlearn: 0.3789026\ttotal: 2.43s\tremaining: 430ms\n",
      "85:\tlearn: 0.3784195\ttotal: 2.48s\tremaining: 404ms\n",
      "86:\tlearn: 0.3777375\ttotal: 2.51s\tremaining: 375ms\n",
      "87:\tlearn: 0.3777149\ttotal: 2.54s\tremaining: 347ms\n",
      "88:\tlearn: 0.3771412\ttotal: 2.58s\tremaining: 318ms\n",
      "89:\tlearn: 0.3770920\ttotal: 2.6s\tremaining: 289ms\n",
      "90:\tlearn: 0.3770713\ttotal: 2.63s\tremaining: 261ms\n",
      "91:\tlearn: 0.3770209\ttotal: 2.67s\tremaining: 232ms\n",
      "92:\tlearn: 0.3769774\ttotal: 2.71s\tremaining: 204ms\n",
      "93:\tlearn: 0.3764307\ttotal: 2.74s\tremaining: 175ms\n",
      "94:\tlearn: 0.3763913\ttotal: 2.77s\tremaining: 146ms\n",
      "95:\tlearn: 0.3759021\ttotal: 2.81s\tremaining: 117ms\n",
      "96:\tlearn: 0.3754174\ttotal: 2.84s\tremaining: 87.8ms\n",
      "97:\tlearn: 0.3752221\ttotal: 2.87s\tremaining: 58.6ms\n",
      "98:\tlearn: 0.3749873\ttotal: 2.9s\tremaining: 29.3ms\n",
      "99:\tlearn: 0.3749440\ttotal: 2.93s\tremaining: 0us\n"
     ]
    }
   ],
   "source": [
    "cat = catboost.CatBoostClassifier(n_estimators=100, \n",
    "                                             cat_features=cat_cols)\n",
    "cat.fit(X_train, y_train)\n",
    "y_train_predicted = cat.predict_proba(X_train)[:, 1]\n",
    "y_test_predicted = cat.predict_proba(X_test)[:, 1]"
   ]
  },
  {
   "cell_type": "code",
   "execution_count": 32,
   "metadata": {},
   "outputs": [
    {
     "data": {
      "text/plain": [
       "0.872562408431784"
      ]
     },
     "execution_count": 32,
     "metadata": {},
     "output_type": "execute_result"
    }
   ],
   "source": [
    "roc_auc_score(y_train, y_train_predicted)"
   ]
  },
  {
   "cell_type": "code",
   "execution_count": 33,
   "metadata": {},
   "outputs": [
    {
     "data": {
      "text/plain": [
       "0.8262275930218598"
      ]
     },
     "execution_count": 33,
     "metadata": {},
     "output_type": "execute_result"
    }
   ],
   "source": [
    "roc_auc_score(y_test, y_test_predicted)"
   ]
  },
  {
   "cell_type": "markdown",
   "metadata": {},
   "source": [
    "Меняю параметры"
   ]
  },
  {
   "cell_type": "code",
   "execution_count": 34,
   "metadata": {},
   "outputs": [
    {
     "name": "stdout",
     "output_type": "stream",
     "text": [
      "0:\tlearn: 0.6374127\ttotal: 23.2ms\tremaining: 2.3s\n",
      "1:\tlearn: 0.5944644\ttotal: 47.2ms\tremaining: 2.31s\n",
      "2:\tlearn: 0.5607167\ttotal: 74.5ms\tremaining: 2.41s\n",
      "3:\tlearn: 0.5349961\ttotal: 114ms\tremaining: 2.73s\n",
      "4:\tlearn: 0.5155555\ttotal: 143ms\tremaining: 2.72s\n",
      "5:\tlearn: 0.4993339\ttotal: 168ms\tremaining: 2.62s\n",
      "6:\tlearn: 0.4849506\ttotal: 196ms\tremaining: 2.61s\n",
      "7:\tlearn: 0.4716881\ttotal: 224ms\tremaining: 2.58s\n",
      "8:\tlearn: 0.4603805\ttotal: 255ms\tremaining: 2.58s\n",
      "9:\tlearn: 0.4513992\ttotal: 285ms\tremaining: 2.56s\n",
      "10:\tlearn: 0.4441001\ttotal: 315ms\tremaining: 2.55s\n",
      "11:\tlearn: 0.4380334\ttotal: 346ms\tremaining: 2.53s\n",
      "12:\tlearn: 0.4324179\ttotal: 377ms\tremaining: 2.52s\n",
      "13:\tlearn: 0.4274501\ttotal: 406ms\tremaining: 2.49s\n",
      "14:\tlearn: 0.4224788\ttotal: 441ms\tremaining: 2.5s\n",
      "15:\tlearn: 0.4192212\ttotal: 474ms\tremaining: 2.49s\n",
      "16:\tlearn: 0.4157905\ttotal: 510ms\tremaining: 2.49s\n",
      "17:\tlearn: 0.4128357\ttotal: 547ms\tremaining: 2.49s\n",
      "18:\tlearn: 0.4100133\ttotal: 579ms\tremaining: 2.47s\n",
      "19:\tlearn: 0.4075918\ttotal: 612ms\tremaining: 2.45s\n",
      "20:\tlearn: 0.4056451\ttotal: 643ms\tremaining: 2.42s\n",
      "21:\tlearn: 0.4036976\ttotal: 674ms\tremaining: 2.39s\n",
      "22:\tlearn: 0.4020791\ttotal: 709ms\tremaining: 2.37s\n",
      "23:\tlearn: 0.4007487\ttotal: 746ms\tremaining: 2.36s\n",
      "24:\tlearn: 0.4001680\ttotal: 769ms\tremaining: 2.31s\n",
      "25:\tlearn: 0.3986568\ttotal: 803ms\tremaining: 2.29s\n",
      "26:\tlearn: 0.3984055\ttotal: 815ms\tremaining: 2.2s\n",
      "27:\tlearn: 0.3980560\ttotal: 849ms\tremaining: 2.18s\n",
      "28:\tlearn: 0.3974927\ttotal: 882ms\tremaining: 2.16s\n",
      "29:\tlearn: 0.3969719\ttotal: 893ms\tremaining: 2.08s\n",
      "30:\tlearn: 0.3957063\ttotal: 928ms\tremaining: 2.06s\n",
      "31:\tlearn: 0.3951194\ttotal: 953ms\tremaining: 2.02s\n",
      "32:\tlearn: 0.3950493\ttotal: 964ms\tremaining: 1.96s\n",
      "33:\tlearn: 0.3947837\ttotal: 994ms\tremaining: 1.93s\n",
      "34:\tlearn: 0.3942962\ttotal: 1.01s\tremaining: 1.88s\n",
      "35:\tlearn: 0.3928315\ttotal: 1.04s\tremaining: 1.86s\n",
      "36:\tlearn: 0.3921334\ttotal: 1.08s\tremaining: 1.84s\n",
      "37:\tlearn: 0.3920179\ttotal: 1.1s\tremaining: 1.8s\n",
      "38:\tlearn: 0.3917351\ttotal: 1.13s\tremaining: 1.76s\n",
      "39:\tlearn: 0.3911778\ttotal: 1.16s\tremaining: 1.73s\n",
      "40:\tlearn: 0.3909698\ttotal: 1.17s\tremaining: 1.69s\n",
      "41:\tlearn: 0.3907305\ttotal: 1.2s\tremaining: 1.66s\n",
      "42:\tlearn: 0.3900182\ttotal: 1.26s\tremaining: 1.67s\n",
      "43:\tlearn: 0.3895274\ttotal: 1.29s\tremaining: 1.65s\n",
      "44:\tlearn: 0.3890497\ttotal: 1.33s\tremaining: 1.62s\n",
      "45:\tlearn: 0.3888095\ttotal: 1.35s\tremaining: 1.59s\n",
      "46:\tlearn: 0.3882972\ttotal: 1.38s\tremaining: 1.56s\n",
      "47:\tlearn: 0.3882669\ttotal: 1.4s\tremaining: 1.51s\n",
      "48:\tlearn: 0.3882302\ttotal: 1.42s\tremaining: 1.48s\n",
      "49:\tlearn: 0.3879293\ttotal: 1.45s\tremaining: 1.45s\n",
      "50:\tlearn: 0.3873697\ttotal: 1.48s\tremaining: 1.42s\n",
      "51:\tlearn: 0.3873026\ttotal: 1.52s\tremaining: 1.4s\n",
      "52:\tlearn: 0.3867677\ttotal: 1.56s\tremaining: 1.39s\n",
      "53:\tlearn: 0.3865849\ttotal: 1.58s\tremaining: 1.35s\n",
      "54:\tlearn: 0.3865549\ttotal: 1.62s\tremaining: 1.32s\n",
      "55:\tlearn: 0.3860961\ttotal: 1.65s\tremaining: 1.29s\n",
      "56:\tlearn: 0.3859747\ttotal: 1.67s\tremaining: 1.26s\n",
      "57:\tlearn: 0.3859139\ttotal: 1.7s\tremaining: 1.23s\n",
      "58:\tlearn: 0.3854432\ttotal: 1.73s\tremaining: 1.21s\n",
      "59:\tlearn: 0.3851041\ttotal: 1.76s\tremaining: 1.18s\n",
      "60:\tlearn: 0.3848900\ttotal: 1.8s\tremaining: 1.15s\n",
      "61:\tlearn: 0.3847163\ttotal: 1.83s\tremaining: 1.12s\n",
      "62:\tlearn: 0.3840708\ttotal: 1.86s\tremaining: 1.09s\n",
      "63:\tlearn: 0.3839340\ttotal: 1.89s\tremaining: 1.06s\n",
      "64:\tlearn: 0.3838377\ttotal: 1.92s\tremaining: 1.03s\n",
      "65:\tlearn: 0.3837200\ttotal: 1.96s\tremaining: 1.01s\n",
      "66:\tlearn: 0.3836832\ttotal: 1.99s\tremaining: 979ms\n",
      "67:\tlearn: 0.3834685\ttotal: 2.02s\tremaining: 951ms\n",
      "68:\tlearn: 0.3832938\ttotal: 2.05s\tremaining: 922ms\n",
      "69:\tlearn: 0.3827528\ttotal: 2.09s\tremaining: 896ms\n",
      "70:\tlearn: 0.3819806\ttotal: 2.13s\tremaining: 868ms\n",
      "71:\tlearn: 0.3819419\ttotal: 2.15s\tremaining: 838ms\n",
      "72:\tlearn: 0.3816820\ttotal: 2.19s\tremaining: 808ms\n",
      "73:\tlearn: 0.3816229\ttotal: 2.22s\tremaining: 779ms\n",
      "74:\tlearn: 0.3813697\ttotal: 2.25s\tremaining: 749ms\n",
      "75:\tlearn: 0.3811863\ttotal: 2.28s\tremaining: 719ms\n",
      "76:\tlearn: 0.3803794\ttotal: 2.31s\tremaining: 689ms\n",
      "77:\tlearn: 0.3802791\ttotal: 2.34s\tremaining: 659ms\n",
      "78:\tlearn: 0.3797794\ttotal: 2.37s\tremaining: 629ms\n",
      "79:\tlearn: 0.3797245\ttotal: 2.4s\tremaining: 599ms\n",
      "80:\tlearn: 0.3797196\ttotal: 2.43s\tremaining: 569ms\n",
      "81:\tlearn: 0.3791029\ttotal: 2.46s\tremaining: 540ms\n",
      "82:\tlearn: 0.3790790\ttotal: 2.5s\tremaining: 512ms\n",
      "83:\tlearn: 0.3789374\ttotal: 2.53s\tremaining: 482ms\n",
      "84:\tlearn: 0.3789026\ttotal: 2.56s\tremaining: 452ms\n",
      "85:\tlearn: 0.3784195\ttotal: 2.59s\tremaining: 421ms\n",
      "86:\tlearn: 0.3777375\ttotal: 2.62s\tremaining: 391ms\n",
      "87:\tlearn: 0.3777149\ttotal: 2.65s\tremaining: 362ms\n",
      "88:\tlearn: 0.3771412\ttotal: 2.68s\tremaining: 332ms\n",
      "89:\tlearn: 0.3770920\ttotal: 2.71s\tremaining: 302ms\n",
      "90:\tlearn: 0.3770713\ttotal: 2.74s\tremaining: 271ms\n",
      "91:\tlearn: 0.3770209\ttotal: 2.77s\tremaining: 241ms\n",
      "92:\tlearn: 0.3769774\ttotal: 2.8s\tremaining: 211ms\n",
      "93:\tlearn: 0.3764307\ttotal: 2.83s\tremaining: 181ms\n",
      "94:\tlearn: 0.3763913\ttotal: 2.86s\tremaining: 151ms\n",
      "95:\tlearn: 0.3759021\ttotal: 2.9s\tremaining: 121ms\n",
      "96:\tlearn: 0.3754174\ttotal: 2.93s\tremaining: 90.6ms\n",
      "97:\tlearn: 0.3752221\ttotal: 2.96s\tremaining: 60.5ms\n",
      "98:\tlearn: 0.3749873\ttotal: 3s\tremaining: 30.3ms\n",
      "99:\tlearn: 0.3749440\ttotal: 3.03s\tremaining: 0us\n"
     ]
    }
   ],
   "source": [
    "best_model = catboost.CatBoostClassifier(n_estimators=100, \n",
    "                                         cat_features=cat_cols,\n",
    "                                         learning_rate=0.157457)\n",
    "best_model.fit(X_train, y_train)\n",
    "y_train_predicted = cat.predict_proba(X_train)[:, 1]\n",
    "y_test_predicted = cat.predict_proba(X_test)[:, 1]"
   ]
  },
  {
   "cell_type": "code",
   "execution_count": 35,
   "metadata": {},
   "outputs": [],
   "source": [
    "best_model = best_model"
   ]
  },
  {
   "cell_type": "code",
   "execution_count": 36,
   "metadata": {},
   "outputs": [],
   "source": [
    "X_test = pd.read_csv('test.csv')\n",
    "submission = pd.read_csv('submission.csv')\n",
    "submission['Churn'] = best_model.predict_proba(X_test)[:, 1]\n",
    "submission.to_csv('my_submission.csv', index=False)"
   ]
  },
  {
   "cell_type": "markdown",
   "metadata": {},
   "source": [
    "Score: 0.85267 на каггле"
   ]
  }
 ],
 "metadata": {
  "colab": {
   "collapsed_sections": [],
   "name": "baseline.ipynb",
   "provenance": []
  },
  "kernelspec": {
   "display_name": "Python 3 (ipykernel)",
   "language": "python",
   "name": "python3"
  },
  "language_info": {
   "codemirror_mode": {
    "name": "ipython",
    "version": 3
   },
   "file_extension": ".py",
   "mimetype": "text/x-python",
   "name": "python",
   "nbconvert_exporter": "python",
   "pygments_lexer": "ipython3",
   "version": "3.9.12"
  }
 },
 "nbformat": 4,
 "nbformat_minor": 1
}
